{
  "nbformat": 4,
  "nbformat_minor": 0,
  "metadata": {
    "colab": {
      "provenance": [],
      "include_colab_link": true
    },
    "kernelspec": {
      "name": "python3",
      "display_name": "Python 3"
    },
    "language_info": {
      "name": "python"
    }
  },
  "cells": [
    {
      "cell_type": "markdown",
      "metadata": {
        "id": "view-in-github",
        "colab_type": "text"
      },
      "source": [
        "<a href=\"https://colab.research.google.com/github/sebastealt/QUIMICA_UNMSM/blob/main/equilibrio.ipynb\" target=\"_parent\"><img src=\"https://colab.research.google.com/assets/colab-badge.svg\" alt=\"Open In Colab\"/></a>"
      ]
    },
    {
      "cell_type": "code",
      "source": [
        "%%capture\n",
        "!pip install chempy"
      ],
      "metadata": {
        "id": "xVENYbgT1ncc"
      },
      "execution_count": null,
      "outputs": []
    },
    {
      "cell_type": "code",
      "execution_count": null,
      "metadata": {
        "id": "d0NF8Yr70Nhi",
        "colab": {
          "base_uri": "https://localhost:8080/"
        },
        "outputId": "a5eda9bf-bb7f-404a-d7a3-f6d972e80a62"
      },
      "outputs": [
        {
          "name": "stdout",
          "output_type": "stream",
          "text": [
            "Introduce el volumen del recipiente (L): 3.5\n",
            "¿Desea añadir reactantes?, 0=No 1=Sí 1\n",
            "Reactante: N2\n",
            "Cantidad de moles: 0.249\n",
            "{'N2'}\n",
            "¿Desea añadir reactantes?, 0=No 1=Sí 1\n",
            "Reactante: H2\n",
            "Cantidad de moles: 0.0321\n",
            "{'H2', 'N2'}\n",
            "¿Desea añadir reactantes?, 0=No 1=Sí 0\n",
            "¿Desea añadir productos?, 0=No 1=Sí 1\n",
            "Producto: NH3\n",
            "Peso del producto(mol): 0.000642\n",
            "{'NH3'}\n",
            "¿Desea añadir productos?, 0=No 1=Sí 0\n"
          ]
        }
      ],
      "source": [
        "from chempy import balance_stoichiometry\n",
        "\n",
        "reactantes = set()\n",
        "productos = set()\n",
        "pesoreacs = set()\n",
        "pesopros = set()\n",
        "volum = float(input(\"Introduce el volumen del recipiente (L): \"))\n",
        "i = 1\n",
        "\n",
        "while i == 1:\n",
        "    i = int(input(\"¿Desea añadir reactantes?, 0=No 1=Sí \"))\n",
        "    if i == 1:\n",
        "        reactante = input(\"Reactante: \")\n",
        "        reactantes.add(reactante)\n",
        "        pesoreac = float(input(\"Cantidad de moles: \"))\n",
        "        pesoreacs.add(pesoreac)\n",
        "        print(reactantes)\n",
        "\n",
        "i = 1\n",
        "\n",
        "while i == 1:\n",
        "    i = int(input(\"¿Desea añadir productos?, 0=No 1=Sí \"))\n",
        "    if i == 1:\n",
        "        producto = input(\"Producto: \")\n",
        "        productos.add(producto)\n",
        "        pesopro = float(input(\"Peso del producto(mol): \"))\n",
        "        pesopros.add(pesopro)\n",
        "        print(productos)\n",
        "\n",
        "resultado = balance_stoichiometry(reactantes, productos)"
      ]
    },
    {
      "cell_type": "code",
      "source": [
        "reactivos_balanceados = resultado[0]\n",
        "productos_balanceados = list(resultado[1])\n",
        "coefrea = list(resultado[0].values())\n",
        "coefpro = list(resultado[1].values())"
      ],
      "metadata": {
        "id": "IxoU2OreOKzT"
      },
      "execution_count": null,
      "outputs": []
    },
    {
      "cell_type": "code",
      "source": [
        "lista_pesoreacs = list(pesoreacs)\n",
        "lista_pesoreacs.reverse()\n",
        "\n",
        "lista_pesopros = list(pesopros)\n",
        "lista_pesopros.reverse()\n",
        "\n",
        "qc_num = 1\n",
        "qc_den = 1\n",
        "i=0\n",
        "for i in range(0,len(resultado[0])):\n",
        "    qc_num *= (lista_pesoreacs[i]/volum) ** coefrea[i]\n",
        "\n",
        "i=0\n",
        "for i in range(0,len(resultado[1])):\n",
        "    qc_den *= (lista_pesopros[i]/volum) ** coefpro[i]\n",
        "qc = qc_den / qc_num"
      ],
      "metadata": {
        "id": "f3ZqZSrvSb4H"
      },
      "execution_count": null,
      "outputs": []
    },
    {
      "cell_type": "code",
      "source": [
        "print(round(qc,2))"
      ],
      "metadata": {
        "colab": {
          "base_uri": "https://localhost:8080/"
        },
        "id": "0yWXTQ5xjEUB",
        "outputId": "4100195c-4d62-4b67-f1df-9f17f678fcf2"
      },
      "execution_count": null,
      "outputs": [
        {
          "output_type": "stream",
          "name": "stdout",
          "text": [
            "0.61\n"
          ]
        }
      ]
    },
    {
      "cell_type": "code",
      "source": [
        "kc = float(input(\"Introduce el valor de Kc: \"))\n",
        "def determinar_direccion_reaccion(qc, kc):\n",
        "    if qc < kc:\n",
        "        return \"La reacción procederá hacia los productos(derecha)\"\n",
        "    elif qc > kc:\n",
        "        return \"La reacción procederá hacia los reactivos()\"\n",
        "    else:\n",
        "        return \"La reacción está en equilibrio\"\n",
        "print(determinar_direccion_reaccion(qc, kc))"
      ],
      "metadata": {
        "id": "-Vs_HA7mIORP",
        "outputId": "52ee95cb-649c-4306-a383-a591f6205a2e",
        "colab": {
          "base_uri": "https://localhost:8080/"
        }
      },
      "execution_count": null,
      "outputs": [
        {
          "output_type": "stream",
          "name": "stdout",
          "text": [
            "Introduce el valor de Kc: 1.2\n",
            "La reacción procederá hacia los productos\n"
          ]
        }
      ]
    },
    {
      "cell_type": "code",
      "source": [],
      "metadata": {
        "id": "iw5ZG1MlS8z3"
      },
      "execution_count": null,
      "outputs": []
    }
  ]
}
