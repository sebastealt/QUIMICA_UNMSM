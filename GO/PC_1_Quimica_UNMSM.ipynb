{
  "nbformat": 4,
  "nbformat_minor": 0,
  "metadata": {
    "colab": {
      "provenance": [],
      "include_colab_link": true
    },
    "kernelspec": {
      "name": "python3",
      "display_name": "Python 3"
    },
    "language_info": {
      "name": "python"
    },
    "widgets": {
      "application/vnd.jupyter.widget-state+json": {
        "f1052add2d374b03af266a9233c9fb5a": {
          "model_module": "faerun-notebook",
          "model_name": "SmilesDrawerModel",
          "model_module_version": "^0.1.5",
          "state": {
            "_dom_classes": [],
            "_model_module": "faerun-notebook",
            "_model_module_version": "^0.1.5",
            "_model_name": "SmilesDrawerModel",
            "_view_count": null,
            "_view_module": "faerun-notebook",
            "_view_module_version": "^0.1.5",
            "_view_name": "SmilesDrawerView",
            "background": "#1e1e1e",
            "border": true,
            "layout": "IPY_MODEL_37dd54e574ba4ba0b33a8f49dc4246a7",
            "options": {
              "scale": 1.25
            },
            "output": "svg",
            "theme": "dark",
            "value": [
              [
                "Rxn",
                "C(C1C(C(C(C(O1)O)O)O)O)O.O=O>>C(=O)=O.O"
              ]
            ]
          }
        },
        "37dd54e574ba4ba0b33a8f49dc4246a7": {
          "model_module": "@jupyter-widgets/base",
          "model_name": "LayoutModel",
          "model_module_version": "1.2.0",
          "state": {
            "_model_module": "@jupyter-widgets/base",
            "_model_module_version": "1.2.0",
            "_model_name": "LayoutModel",
            "_view_count": null,
            "_view_module": "@jupyter-widgets/base",
            "_view_module_version": "1.2.0",
            "_view_name": "LayoutView",
            "align_content": null,
            "align_items": null,
            "align_self": null,
            "border": null,
            "bottom": null,
            "display": null,
            "flex": null,
            "flex_flow": null,
            "grid_area": null,
            "grid_auto_columns": null,
            "grid_auto_flow": null,
            "grid_auto_rows": null,
            "grid_column": null,
            "grid_gap": null,
            "grid_row": null,
            "grid_template_areas": null,
            "grid_template_columns": null,
            "grid_template_rows": null,
            "height": null,
            "justify_content": null,
            "justify_items": null,
            "left": null,
            "margin": null,
            "max_height": null,
            "max_width": null,
            "min_height": null,
            "min_width": null,
            "object_fit": null,
            "object_position": null,
            "order": null,
            "overflow": null,
            "overflow_x": null,
            "overflow_y": null,
            "padding": null,
            "right": null,
            "top": null,
            "visibility": null,
            "width": null
          }
        }
      }
    }
  },
  "cells": [
    {
      "cell_type": "markdown",
      "metadata": {
        "id": "view-in-github",
        "colab_type": "text"
      },
      "source": [
        "<a href=\"https://colab.research.google.com/github/sebastealt/QUIMICA_UNMSM/blob/main/PC_1_Quimica_UNMSM.ipynb\" target=\"_parent\"><img src=\"https://colab.research.google.com/assets/colab-badge.svg\" alt=\"Open In Colab\"/></a>"
      ]
    },
    {
      "cell_type": "markdown",
      "source": [
        "$$\\Large \\textit{UNMSM | Química}$$\n",
        "$$\\large \\textbf{PC Nº1 | Materia y clasificación}$$\n",
        "\n",
        "_Profesor: Jesus Alvarado Huayhuaz_"
      ],
      "metadata": {
        "id": "sDJAjbaQOj4x"
      }
    },
    {
      "cell_type": "markdown",
      "source": [
        "Todas las indicaciones para la presentación de la práctica son explicadas en clase y brindadas en el material de enunciado de preguntas en formato PDF."
      ],
      "metadata": {
        "id": "_DsTzWLoP7Fy"
      }
    },
    {
      "cell_type": "markdown",
      "source": [
        "## Pregunta 1: Sobre el ABC de python (4 puntos)"
      ],
      "metadata": {
        "id": "obD7c2igOD6t"
      }
    },
    {
      "cell_type": "markdown",
      "source": [
        "Durante la semana de revisión del material \"ABC de python\", reflexiona sobre qué conceptos aprendiste con claridad y cuáles consideras los más desafiantes. A continuación resuelve los siguiente ejercicios, puedes ayudarte del material en http://bit.ly/3YKICSZ."
      ],
      "metadata": {
        "id": "emt93S7dL7QH"
      }
    },
    {
      "cell_type": "code",
      "source": [
        "# Imprime la versión de python que usas y las palabras reservadas de python para esa versión.\n",
        "!python --version"
      ],
      "metadata": {
        "id": "6mJvqMN0LTU8",
        "outputId": "25cf51e7-ab8b-4d21-d84d-ea76834be559",
        "colab": {
          "base_uri": "https://localhost:8080/"
        }
      },
      "execution_count": null,
      "outputs": [
        {
          "output_type": "stream",
          "name": "stdout",
          "text": [
            "Python 3.10.12\n"
          ]
        }
      ]
    },
    {
      "cell_type": "code",
      "source": [
        "# Crea una matriz de 3x3 e imprime la suma de los elementos en su diagonal (traza).\n",
        "matriz = [\n",
        "    [1, 2, 3],\n",
        "    [4, 5, 6],\n",
        "    [7, 8, 9]\n",
        "]\n",
        "sumadiagonal=0\n",
        "for i in range(3):\n",
        "    sumadiagonal += matriz[i][i]\n",
        "print(\"La suma de la diagonal principal es: \",sumadiagonal)"
      ],
      "metadata": {
        "id": "MxDzGypdLTXh",
        "outputId": "356557b8-d0a9-458b-835a-54c78583b6a4",
        "colab": {
          "base_uri": "https://localhost:8080/"
        }
      },
      "execution_count": null,
      "outputs": [
        {
          "output_type": "stream",
          "name": "stdout",
          "text": [
            "La suma de la diagonal principal es:  15\n"
          ]
        }
      ]
    },
    {
      "cell_type": "code",
      "source": [
        "# Guarda como variable la masa atómica de los elementos C, H y O, e imprime la masa molecular del etanol.\n",
        "#C2H6O1\n",
        "masa_carbono = 12\n",
        "masa_hidrogeno = 1\n",
        "masa_oxigeno = 16\n",
        "masa_etanol= 12*2 + 1*6 + 16*1\n",
        "print(\"La masa molecular del etanol es: \",masa_etanol)"
      ],
      "metadata": {
        "id": "MyhNX7JmLTSe",
        "outputId": "ad12bda7-6b33-4dbc-9efd-f08147a2d560",
        "colab": {
          "base_uri": "https://localhost:8080/"
        }
      },
      "execution_count": null,
      "outputs": [
        {
          "output_type": "stream",
          "name": "stdout",
          "text": [
            "La masa molecular del etanol es:  46\n"
          ]
        }
      ]
    },
    {
      "cell_type": "code",
      "source": [
        "# Busca la temperatura de fusión en Celsius de 5 metales y guárdalos en una lista. Imprime las temperaturas en Kelvin\n",
        "metales = [\"Plata\",\"Oro\",\"Estaño\",\"Hierro\",\"Tungsteno\"]\n",
        "temps = [962,1064,232,1538,3422]\n",
        "kelvin = [temp+273 for temp in temps]\n",
        "print(kelvin)\n",
        "\n",
        "for i in range(len(metales)):\n",
        "    print(\"El\", metales[i], \"tiene una temperatura de fusión de\", kelvin[i], \"K\")"
      ],
      "metadata": {
        "id": "NCOnJ0FwgLLc",
        "colab": {
          "base_uri": "https://localhost:8080/"
        },
        "outputId": "f60237e3-2787-4604-c9b6-474937e53588"
      },
      "execution_count": null,
      "outputs": [
        {
          "output_type": "stream",
          "name": "stdout",
          "text": [
            "[1235, 1337, 505, 1811, 3695]\n",
            "El Plata tiene una temperatura de fusión de 1235 K\n",
            "El Oro tiene una temperatura de fusión de 1337 K\n",
            "El Estaño tiene una temperatura de fusión de 505 K\n",
            "El Hierro tiene una temperatura de fusión de 1811 K\n",
            "El Tungsteno tiene una temperatura de fusión de 3695 K\n"
          ]
        }
      ]
    },
    {
      "cell_type": "markdown",
      "source": [
        "## Pregunta 2: Operaciones (4 puntos)"
      ],
      "metadata": {
        "id": "epzOadagLfPi"
      }
    },
    {
      "cell_type": "markdown",
      "source": [
        "Escribe un programa que lea repetidamente elementos químicos en español hasta que el usuario introduzca “fin”. Una vez se haya introducido “fin”, muestra por pantalla (o sea imprime) el total de elementos ingresados. Si el usuario introduce cualquier otra cosa que no sea un elemento químico, detecta su fallo usando try y except, muestra un mensaje de error y pasa al siguiente elemento."
      ],
      "metadata": {
        "id": "MbAEOGPsjOWZ"
      }
    },
    {
      "cell_type": "code",
      "source": [
        "gases_nobles = [\"helio\",\"neon\",\"argon\",\"cripton\",\"zenon\",\"radon\"]\n",
        "elementos_ingresados = 0\n",
        "while True:\n",
        "    try:\n",
        "        linea = input('Ingrese un gas noble ')\n",
        "        if linea == 'fin':\n",
        "            break\n",
        "        elif linea in gases_nobles:\n",
        "            elementos_ingresados += 1\n",
        "        else:\n",
        "            print('No es un elemento químico.')\n",
        "    except:\n",
        "        print('No es un elemento químico.')\n",
        "\n",
        "print('Total de elementos químicos ingresados:', elementos_ingresados)"
      ],
      "metadata": {
        "id": "gJGX0p5QLetj",
        "colab": {
          "base_uri": "https://localhost:8080/"
        },
        "outputId": "a2394ef9-f288-4dd5-d7dc-7614e5d7a656"
      },
      "execution_count": null,
      "outputs": [
        {
          "output_type": "stream",
          "name": "stdout",
          "text": [
            "Ingrese un gas noble zenon\n",
            "Ingrese un gas noble radon\n",
            "Ingrese un gas noble perro\n",
            "No es un elemento químico.\n",
            "Ingrese un gas noble fin\n",
            "Total de elementos químicos ingresados: 2\n"
          ]
        }
      ]
    },
    {
      "cell_type": "markdown",
      "source": [
        "# Pregunta 3: Conservación de la masa (4 puntos)"
      ],
      "metadata": {
        "id": "8gxSHpD3LZsh"
      }
    },
    {
      "cell_type": "markdown",
      "source": [
        "### Código necesario para generar la imagen"
      ],
      "metadata": {
        "id": "mMV9c3hDl7KL"
      }
    },
    {
      "cell_type": "code",
      "source": [
        "!pip install faerun-notebook==0.1.5b0\n",
        "\n",
        "import ipywidgets as widgets\n",
        "from faerun_notebook import SmilesDrawer\n",
        "from google.colab import output\n",
        "output.enable_custom_widget_manager()"
      ],
      "metadata": {
        "id": "JgF8Ohtbky65"
      },
      "execution_count": null,
      "outputs": []
    },
    {
      "cell_type": "markdown",
      "source": [
        "### Reacción química"
      ],
      "metadata": {
        "id": "5sLC10D_oSrV"
      }
    },
    {
      "cell_type": "markdown",
      "source": [
        "Demuestra cómo se cumple la conservación de la masa en la siguiente reacción química. Sugerencia: hacer un balance estequiométrico y luego emplear la masa molecular de reactivos y productos."
      ],
      "metadata": {
        "id": "OVRhAzaVmD86"
      }
    },
    {
      "cell_type": "code",
      "source": [
        "SmilesDrawer(value=[(\"Rxn\", \"C(C1C(C(C(C(O1)O)O)O)O)O.O=O>>C(=O)=O.O\")], theme='dark', background=\"#1e1e1e\", options={'scale': 1.25})"
      ],
      "metadata": {
        "colab": {
          "base_uri": "https://localhost:8080/",
          "height": 289,
          "referenced_widgets": [
            "f1052add2d374b03af266a9233c9fb5a",
            "37dd54e574ba4ba0b33a8f49dc4246a7"
          ]
        },
        "id": "CC0mAXWmnYyN",
        "outputId": "dc7c69a2-b011-4aa7-9cbc-c967af877b44"
      },
      "execution_count": null,
      "outputs": [
        {
          "output_type": "display_data",
          "data": {
            "text/plain": [
              "SmilesDrawer(background='#1e1e1e', options={'scale': 1.25}, theme='dark', value=[('Rxn', 'C(C1C(C(C(C(O1)O)O)O…"
            ],
            "application/vnd.jupyter.widget-view+json": {
              "version_major": 2,
              "version_minor": 0,
              "model_id": "f1052add2d374b03af266a9233c9fb5a"
            }
          },
          "metadata": {
            "application/vnd.jupyter.widget-view+json": {
              "colab": {
                "custom_widget_manager": {
                  "url": "https://ssl.gstatic.com/colaboratory-static/widgets/colab-cdn-widget-manager/b3e629b1971e1542/manager.min.js"
                }
              }
            }
          }
        }
      ]
    },
    {
      "cell_type": "code",
      "source": [
        "!pip install chempy   #usar la libreria chempy"
      ],
      "metadata": {
        "id": "8-MDJMnUu8bR"
      },
      "execution_count": null,
      "outputs": []
    },
    {
      "cell_type": "code",
      "source": [
        "#Obtener los coeficientes estequiometricos\n",
        "from chempy import balance_stoichiometry\n",
        "reac, prod = balance_stoichiometry({'C6O6H5', 'O2'}, {'CO2', 'H2O'})\n",
        "print(reac)\n",
        "print(prod)"
      ],
      "metadata": {
        "colab": {
          "base_uri": "https://localhost:8080/"
        },
        "id": "bIA-sVXWuxro",
        "outputId": "b0717c61-16ed-462e-b804-f0ed42a120f1"
      },
      "execution_count": null,
      "outputs": [
        {
          "output_type": "stream",
          "name": "stdout",
          "text": [
            "OrderedDict([('C6O6H5', 4), ('O2', 17)])\n",
            "OrderedDict([('CO2', 24), ('H2O', 10)])\n"
          ]
        }
      ]
    },
    {
      "cell_type": "code",
      "source": [
        "#Representar la reaccion\n",
        "from chempy import chemistry\n",
        "reaction = chemistry.Reaction({'C6O6H5': 4, 'O2': 17}, {'CO2': 24, 'H2O': 10})\n",
        "print(reaction)"
      ],
      "metadata": {
        "colab": {
          "base_uri": "https://localhost:8080/"
        },
        "id": "foAiZHIAy5gR",
        "outputId": "dcf365c5-8492-4f8c-d802-7fb3d6bee074"
      },
      "execution_count": null,
      "outputs": [
        {
          "output_type": "stream",
          "name": "stdout",
          "text": [
            "4 C6O6H5 + 17 O2 -> 24 CO2 + 10 H2O\n"
          ]
        }
      ]
    },
    {
      "cell_type": "code",
      "source": [
        "#verificar si cumple con la cosnervacion de la masa\n",
        "from chempy import Substance\n",
        "\n",
        "reac1 = Substance.from_formula('C6O6H5')\n",
        "reac2= Substance.from_formula('O2')\n",
        "prod1= Substance.from_formula('CO2')\n",
        "prod2=Substance.from_formula('H2O')\n",
        "\n",
        "masa_reactivos = 4 * reac1.mass + 17 * reac2.mass\n",
        "masa_productos = 24 * prod1.mass + 10 * prod2.mass\n",
        "print(masa_reactivos)\n",
        "print(masa_productos)\n",
        "if masa_reactivos == masa_productos:\n",
        "  print('Cumple con la conservacion de la masa')\n",
        "else :\n",
        "  print('No cumple la conservacion de la masa')"
      ],
      "metadata": {
        "colab": {
          "base_uri": "https://localhost:8080/"
        },
        "id": "WT744eNF05z5",
        "outputId": "48615fb1-e17e-4603-c352-5d32216eb577"
      },
      "execution_count": null,
      "outputs": [
        {
          "output_type": "stream",
          "name": "stdout",
          "text": [
            "1236.366\n",
            "1236.366\n",
            "Cumple con la conservacion de la masa\n"
          ]
        }
      ]
    },
    {
      "cell_type": "markdown",
      "source": [
        "## Pregunta 4: Notación científica (4 puntos)"
      ],
      "metadata": {
        "id": "Rh-nAUiKhJNB"
      }
    },
    {
      "cell_type": "markdown",
      "source": [
        "Imprime las siguientes operaciones según la notación científica:\n",
        "\n",
        "(1) $1.321 \\times 10^{-4} + 8.5 \\times 10^{-2}$\n",
        "\n",
        "(2) $1.71 \\times 10^{3} - 2.01 \\times 10^{2}\\$\n",
        "\n",
        "(3) $(7.4 \\times 10^5)(7.2 \\times 10^4)$\n",
        "\n",
        "(4) $(7.4 \\times 10^5)/(7.2 \\times 10^4)$"
      ],
      "metadata": {
        "id": "NIkI45Xdqqnt"
      }
    },
    {
      "cell_type": "code",
      "source": [
        "n1 = 1.321 * 10 ** -4\n",
        "n2 = 8.5 * 10 ** -2\n",
        "resultado1 = n1 + n2\n",
        "n3 = 1.71 * 10 ** 3\n",
        "n4 = 2.01 * 10 ** 2\n",
        "resultado2 = n3 - n4\n",
        "n5= 7.4 * 10 **5\n",
        "n6= 7.2 * 10 **4\n",
        "resultado3 = n5 * n6\n",
        "resultado4 = n5 / n6\n",
        "print(f'El primer resultado es {resultado1} en NC 8.5 * 10^-2')\n",
        "print(f'El segundo resultado es {resultado2} en NC 1.5 * 10^3')\n",
        "print(f'El tercer resultado es {resultado3} en NC 5.3 * 10^10')\n",
        "print(f'El cuarto resultado es {resultado4} en NC 1.0 * 10^1')\n"
      ],
      "metadata": {
        "id": "rq0duGmz4oLZ",
        "colab": {
          "base_uri": "https://localhost:8080/"
        },
        "outputId": "c6e8aa64-9758-4cbe-d34e-0388e3009a0a"
      },
      "execution_count": null,
      "outputs": [
        {
          "output_type": "stream",
          "name": "stdout",
          "text": [
            "El primer resultado es 0.0851321 en NC 8.5 * 10^-2\n",
            "El segundo resultado es 1509.0 en NC 1.5 * 10^3\n",
            "El tercer resultado es 53280000000.0 en NC 5.3 * 10^10\n",
            "El cuarto resultado es 10.277777777777779 en NC 1.0 * 10^1\n"
          ]
        }
      ]
    },
    {
      "cell_type": "markdown",
      "source": [
        "## Pregunta 5: Método científico (4 puntos)"
      ],
      "metadata": {
        "id": "CuzCcXJghR14"
      }
    },
    {
      "cell_type": "markdown",
      "source": [
        "Artículo: https://bit.ly/3surZ1W\n",
        "Leer el siguiente artículo y explica cómo es aplicado el método científico. Emplea como máximo 300 palabras."
      ],
      "metadata": {
        "id": "WngRSR-Rhmx1"
      }
    },
    {
      "cell_type": "markdown",
      "source": [],
      "metadata": {
        "id": "bB8j_9drFQtJ"
      }
    },
    {
      "cell_type": "markdown",
      "source": [
        "Se investigó la cuestión de si el compuesto LK-99 podría ser un superconductor\n",
        "a través de un enfoque del método científico. Realizaron el paso de observación cuando escucharon la teoría del equipo surcoreano que el LK-99 podría ser un superconductor que funcione a temperatura ambiente y presión atmosférica.\n",
        "Posteriormente, plantearon la pregunta si estas afirmaciones eran válidas y si el material tenía realmente propiedades de superconductividad. Luego de observar plantearon la hipótesis de que LK-99 podría ser un superconductor capaz de funcionar a temperatura ambiente.\n",
        "En la fase de experimentación, realizaron mediciones de resistividad eléctrica en función de la temperatura y evaluaron las respuestas magnéticas en presencia de campos magnéticos externos.\n",
        "Después de analizar los resultados de los experimentos y compararlos con las propiedades esperadas de los superconductores, llegaron a la conclusión de que las propiedades observadas en LK-99 no eran indicativas de superconductividad. Identificaron la presencia de impurezas, como el sulfuro de cobre, identificándolo como la causa de los efectos observados."
      ],
      "metadata": {
        "id": "mXueA2rSRVVX"
      }
    },
    {
      "cell_type": "markdown",
      "source": [],
      "metadata": {
        "id": "xoqO8PzGR0jg"
      }
    }
  ]
}
