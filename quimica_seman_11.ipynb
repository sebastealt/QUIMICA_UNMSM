{
  "nbformat": 4,
  "nbformat_minor": 0,
  "metadata": {
    "colab": {
      "provenance": [],
      "authorship_tag": "ABX9TyPWQ2VaojpZgAyoc/r/YPld",
      "include_colab_link": true
    },
    "kernelspec": {
      "name": "python3",
      "display_name": "Python 3"
    },
    "language_info": {
      "name": "python"
    }
  },
  "cells": [
    {
      "cell_type": "markdown",
      "metadata": {
        "id": "view-in-github",
        "colab_type": "text"
      },
      "source": [
        "<a href=\"https://colab.research.google.com/github/sebastealt/QUIMICA_UNMSM/blob/main/quimica_seman_11.ipynb\" target=\"_parent\"><img src=\"https://colab.research.google.com/assets/colab-badge.svg\" alt=\"Open In Colab\"/></a>"
      ]
    },
    {
      "cell_type": "markdown",
      "source": [
        "# Fuerzas intermoleculares"
      ],
      "metadata": {
        "id": "A9PtfNd3bVQd"
      }
    },
    {
      "cell_type": "markdown",
      "source": [
        "11.1\n",
        "dipolo-dipolo:  agua (H2O). Los átomos de hidrógeno tienen una carga parcial positiva y el átomo de oxígeno tiene una carga parcial negativa. Las moléculas de agua se atraen entre sí debido a estas cargas parciales1.\n",
        "\n",
        "dipolo-dipolo inducido: Un ejemplo es la interacción entre los átomos de gases nobles, como el helio y el neón, cuando se comprimen en un estado condensado.\n",
        "\n",
        "ion-dipolo: Un ejemplo clásico es la solución acuosa de cloruro de sodio (NaCl). Cuando se disuelve en agua, se disocia completamente en cationes Na+ y aniones Cl-.\n",
        "\n",
        "Fuerzas de dispersión: Un ejemplo común es el metano (CH4). Las únicas fuerzas en el metano son las fuerzas de dispersión porque no hay dipolos permanentes.\n",
        "\n",
        "Fuerzas de van der Waals: Dos moléculas de agua, que incluye tanto las fuerzas dipolo-dipolo como las fuerzas de dispersión."
      ],
      "metadata": {
        "id": "PD0dnsdnZQGs"
      }
    },
    {
      "cell_type": "markdown",
      "source": [
        "11.2\n",
        "La polarizabilidad es una propiedad dinámica y química de la materia, que se presenta cuando existen tendencias a la formación instantánea, momentánea de dipolos, por acción de un estímulo externo.\n",
        "Las moléculas que tienden a ser muy polarizables son aquellas que tengan mayor electronegatividad.\n",
        "La relación que existe entre la polarizabilidad y las fuerzas intermoleculares es que la formación de dipolos implica que las fuerzas intermoleculares contribuyan con la distribución momentánea de las cargas, o la distorsión de la nube electrónica de los átomos que componen las moléculas de la materia que se polariza."
      ],
      "metadata": {
        "id": "dwBPq0Uaa_T2"
      }
    },
    {
      "cell_type": "markdown",
      "source": [
        "11.3 El momento dipolar permanente se refiere a la existencia de un momento dipolar eléctrico constante en una molécula debido a la asimetría en la distribución de cargas eléctricas.\n",
        "El momento dipolar temporal, por otro lado, es un momento dipolar eléctrico que puede aparecer temporalmente en una molécula debido a la redistribución transitoria de cargas eléctricas\n",
        "La diferencia principal entre un momento dipolar permanente y un momento dipolar temporal radica en su duración y origen."
      ],
      "metadata": {
        "id": "iO-aQB6kyfXu"
      }
    },
    {
      "cell_type": "markdown",
      "source": [
        "11.4 La formación de enlaces químicos entre átomos para crear moléculas es una evidencia de las fuerzas de atracción. Los enlaces covalentes, iónicos y metálicos son ejemplos de cómo los átomos se atraen entre sí para compartir electrones, transferir electrones o formar estructuras de red sólida."
      ],
      "metadata": {
        "id": "juYctuCvy-i1"
      }
    },
    {
      "cell_type": "markdown",
      "source": [
        "11.5 Punto de ebullición: Los puntos de ebullición de las sustancias reflejan la magnitud de las fuerzas intermoleculares.\n",
        "\n",
        "Punto de fusión: Al igual que el punto de ebullición, el punto de fusión también puede indicar la intensidad de las fuerzas intermoleculares.\n",
        "\n",
        "Viscosidad: La viscosidad es una medida de la resistencia al flujo. Las sustancias con fuerzas intermoleculares fuertes tienden a ser más viscosas.\n",
        "\n",
        "Solubilidad: La solubilidad en agua de los compuestos moleculares es variable y depende principalmente del tipo de fuerzas intermoleculares involucradas."
      ],
      "metadata": {
        "id": "ah2ygmZl1mJO"
      }
    },
    {
      "cell_type": "markdown",
      "source": [
        "# Propiedades de los líquidos"
      ],
      "metadata": {
        "id": "vIKDp3d93g_3"
      }
    },
    {
      "cell_type": "markdown",
      "source": [
        "11.21\n",
        " En un gas, las partículas están separadas por  grandes distancias. Esto permite que las partículas se puedan comprimir. Mientras que en un líquido, las partículas están mucho más cercanas entre sí, y el espacio entre ellas es mucho más limitado. Las partículas en un líquido ya están bastante cerca una de la otra, por lo que no pueden comprimirse significativamente sin repelerse debido a las fuerzas intermoleculares.\n"
      ],
      "metadata": {
        "id": "GVoMzUx-3jPm"
      }
    },
    {
      "cell_type": "markdown",
      "source": [
        "11.22 La tensión superficial es la propiedad de los líquidos que hace que su superficie actúe como una película elástica debido a las fuerzas de atracción entre las moléculas en la superficie.\n",
        "\n",
        "La relación entre la tensión superficial y las fuerzas intermoleculares es que las fuerzas intermoleculares fuertes en la superficie del líquido generan una mayor tensión superficial.\n",
        "\n",
        "La tensión superficial disminuye con el aumento de la temperatura debido a la disminución de las fuerzas intermoleculares en la superficie del líquido."
      ],
      "metadata": {
        "id": "QRkIxwwH4Un_"
      }
    },
    {
      "cell_type": "markdown",
      "source": [
        "11.23   La navaja flota debido a la tensión superficial del agua, que puede soportar objetos ligeros, como la navaja."
      ],
      "metadata": {
        "id": "O6O7dw6E6voX"
      }
    },
    {
      "cell_type": "markdown",
      "source": [
        "11.27 La viscosidad es la resistencia de un líquido a fluir. Las fuerzas intermoleculares más fuertes aumentan la viscosidad."
      ],
      "metadata": {
        "id": "QMYrKHT-_Xde"
      }
    },
    {
      "cell_type": "markdown",
      "source": [
        "## Soluciones"
      ],
      "metadata": {
        "id": "JDPtEhwh_km-"
      }
    },
    {
      "cell_type": "markdown",
      "source": [
        "12.5 \"Lo semejante disuelve lo semejante\" significa que sustancias con fuerzas intermoleculares similares tienden a disolverse entre sí."
      ],
      "metadata": {
        "id": "sDBMu65eB0iP"
      }
    },
    {
      "cell_type": "markdown",
      "source": [
        "\n",
        "12.6 Los procesos endotérmicos de disolución absorben energía debido a la ruptura de las fuerzas intermoleculares en el soluto y solvente. Los procesos exotérmicos de disolución liberan energía cuando se forman nuevas interacciones intermoleculares."
      ],
      "metadata": {
        "id": "Ku7Eg01pCTjX"
      }
    },
    {
      "cell_type": "markdown",
      "source": [
        "12.7 El proceso de disolución aumenta el desorden porque las partículas del soluto se dispersan en el solvente, lo que aumenta la aleatoriedad y la entropía del sistema.\n",
        "\n",
        "12.8 La solubilidad de un sólido en un líquido se ve afectada por la temperatura y la presión. Dos líquidos son miscibles cuando se mezclan en cualquier proporción sin separarse en capas distintas, lo que significa que sus fuerzas intermoleculares son compatibles."
      ],
      "metadata": {
        "id": "cAHRl2EcB8yn"
      }
    },
    {
      "cell_type": "markdown",
      "source": [],
      "metadata": {
        "id": "0KatqUwHCaUf"
      }
    },
    {
      "cell_type": "markdown",
      "source": [],
      "metadata": {
        "id": "BsXT1mCDB8rH"
      }
    },
    {
      "cell_type": "markdown",
      "source": [
        "# Unidades de concentracion"
      ],
      "metadata": {
        "id": "Vzqzc-MbX1WR"
      }
    },
    {
      "cell_type": "markdown",
      "source": [
        "12.15 Calcule el porcentaje en masa de soluto en cada una de las siguientes disoluciones acuosas: a) 5.50 g de NaBr en 78.2 g de disolución, b) 31.0 g de KCl en 152 g de agua, c) 4.5 g de tolueno en 29 g de benceno.\n"
      ],
      "metadata": {
        "id": "HFibgyTVX8O4"
      }
    },
    {
      "cell_type": "code",
      "source": [
        "soluto = [[5.50,78.2],[31.0,152],[4.5,29]]\n",
        "for solucion in soluto:\n",
        "  pm = (solucion[0]/solucion[1])*100\n",
        "  print(f'El porcentaje masa en soluto {pm:.2f}% ')"
      ],
      "metadata": {
        "id": "qjxe9bTtB0aC",
        "colab": {
          "base_uri": "https://localhost:8080/"
        },
        "outputId": "fb9ea974-91a6-465c-b0ba-7b9822f50efa"
      },
      "execution_count": 3,
      "outputs": [
        {
          "output_type": "stream",
          "name": "stdout",
          "text": [
            "El porcentaje masa en soluto 7.03% \n",
            "El porcentaje masa en soluto 20.39% \n",
            "El porcentaje masa en soluto 15.52% \n"
          ]
        }
      ]
    },
    {
      "cell_type": "code",
      "source": [
        "#12.16\n",
        "datos_disoluciones = [(5, 16.2), (26.2, 1.5)]\n",
        "\n",
        "for masa_soluto, porcentaje_masa in datos_disoluciones:\n",
        "\n",
        "    mA = masa_soluto / ((porcentaje_masa / 100) )\n",
        "\n",
        "\n",
        "    print(f\" se deben agregar {mA:.2f}g de agua.\")"
      ],
      "metadata": {
        "colab": {
          "base_uri": "https://localhost:8080/"
        },
        "id": "CEbIzbm8dY_B",
        "outputId": "3437ac0c-a851-4235-c030-cd5e21d2627c"
      },
      "execution_count": 6,
      "outputs": [
        {
          "output_type": "stream",
          "name": "stdout",
          "text": [
            " se deben agregar 30.86g de agua.\n",
            " se deben agregar 1746.67g de agua.\n"
          ]
        }
      ]
    },
    {
      "cell_type": "markdown",
      "source": [
        "\n",
        "12.17 Calcule la molalidad de cada una de las siguientes diso- luciones: a) 14.3 g de sacarosa (CHO) en 676 g de agua, b) 7.20 moles de etilenglicol (C,H,O,) en 3 546 g de agua.\n",
        "\n",
        "\n",
        "---\n",
        "\n"
      ],
      "metadata": {
        "id": "Eer-99-D_XXc"
      }
    },
    {
      "cell_type": "code",
      "source": [
        "ma_sacarosa = 14.3\n",
        "masa_agua_a = 676\n",
        "ma_molar_sacarosa = 342.34\n",
        "\n",
        "n_sacarosa = ma_sacarosa / ma_molar_sacarosa\n",
        "\n",
        "molalidad_a = n_sacarosa / (masa_agua_a / 1000)\n",
        "\n",
        "moles_etilenglicol = 7.20\n",
        "masa_agua_b = 3546\n",
        "masa_molar_etilenglicol = 62.07\n",
        "\n",
        "moles_etilenglicol = 7.20\n",
        "molalidad_b = moles_etilenglicol / (masa_agua_b / 1000)\n",
        "\n",
        "\n",
        "print(f'Molalidad en a: {molalidad_a:.2f} mol/kg')\n",
        "print(f'Molalidad en b: {molalidad_b:.2f} mol/kg')\n"
      ],
      "metadata": {
        "id": "i3MFW_BtZrNs",
        "colab": {
          "base_uri": "https://localhost:8080/"
        },
        "outputId": "297f23cd-fb12-4ec2-cbf7-1e2b6bc99660"
      },
      "execution_count": 10,
      "outputs": [
        {
          "output_type": "stream",
          "name": "stdout",
          "text": [
            "Molalidad en a: 0.06 mol/kg\n",
            "Molalidad en b: 2.03 mol/kg\n"
          ]
        }
      ]
    },
    {
      "cell_type": "code",
      "source": [
        "#12.18\n",
        "\n",
        "concentracion_a = 2.50\n",
        "densidad_a = 1.08\n",
        "\n",
        "volumen_litro = 1\n",
        "moles_NaCl = concentracion_a * volumen_litro\n",
        "\n",
        "volumen_mL = volumen_litro * 1000\n",
        "peso_disolvente_kg = densidad_a * volumen_mL / 1000\n",
        "\n",
        "molalidad_a = moles_NaCl / peso_disolvente_kg\n",
        "print(f'Molalidad (a): {molalidad_a:.2f} mol/kg')\n",
        "\n",
        "porcentaje_masa_b = 48.2\n",
        "masa_molar_KBr = 119.0\n",
        "peso_solucion_b = 100.0\n",
        "\n",
        "moles_KBr = (porcentaje_masa_b / 100) * peso_solucion_b\n",
        "\n",
        "peso_disolvente_kg_b = peso_solucion_b - moles_KBr * masa_molar_KBr / 1000\n",
        "\n",
        "molalidad_b = moles_KBr / peso_disolvente_kg_b\n",
        "print(f'Molalidad (b): {molalidad_b:.2f} mol/kg')"
      ],
      "metadata": {
        "colab": {
          "base_uri": "https://localhost:8080/"
        },
        "id": "IAcRnpCWbeVf",
        "outputId": "fa07df0d-f148-409e-e51f-352ce73f0033"
      },
      "execution_count": 11,
      "outputs": [
        {
          "output_type": "stream",
          "name": "stdout",
          "text": [
            "Molalidad (a): 2.31 mol/kg\n",
            "Molalidad (b): 0.51 mol/kg\n"
          ]
        }
      ]
    },
    {
      "cell_type": "code",
      "source": [
        "#12.21\n",
        "porcentaje_prueba = 75\n",
        "volumen_ginebra_L = 1.00\n",
        "densidad_etanol = 0.798\n",
        "\n",
        "porcentaje_etanol = porcentaje_prueba / 2\n",
        "\n",
        "masa_etanol_g = volumen_ginebra_L * densidad_etanol * porcentaje_etanol / 1000\n",
        "\n",
        "print(f'La masa de etanol  es de {masa_etanol_g:.2f} gramos.')\n"
      ],
      "metadata": {
        "colab": {
          "base_uri": "https://localhost:8080/"
        },
        "id": "vhvTERQme6oE",
        "outputId": "026887a6-dd63-4cea-8e35-b74fed075671"
      },
      "execution_count": 13,
      "outputs": [
        {
          "output_type": "stream",
          "name": "stdout",
          "text": [
            "La masa de etanol  es de 0.03 gramos.\n"
          ]
        }
      ]
    },
    {
      "cell_type": "markdown",
      "source": [
        "#12.14\n",
        "Molaridad a Molalidad: alidad necesitas conocer la densidad (d) de la solución. La fórmula para convertir es: m = M / (d - M*MW), donde MW es el peso molecular del soluto.\n",
        "\n",
        "Molalidad a Molaridad:  M = m * d / (1 + m*MW).\n",
        "\n",
        "Molalidad a Porcentaje en Masa: %m = (m * MW / (1 + m * MW)) * 100.\n",
        "\n",
        "Porcentaje en Masa a Molalidad:  m = %m / ((100 - %m) * MW)"
      ],
      "metadata": {
        "id": "FC7XfiKKgJUa"
      }
    },
    {
      "cell_type": "markdown",
      "source": [
        "# Efecto de la temperatura en la solubilidad"
      ],
      "metadata": {
        "id": "_Nj0O2aIgAu9"
      }
    },
    {
      "cell_type": "code",
      "source": [
        "# 12.27\n",
        "masa_sal = 3.20\n",
        "masa_agua = 9.10\n",
        "\n",
        "\n",
        "masa_total = masa_sal + masa_agua\n",
        "\n",
        "\n",
        "solubilidad = (masa_sal / masa_total) * 100\n",
        "\n",
        "print(f\"La solubilidad de la sal en agua es del {solubilidad:.2f}%.\")\n"
      ],
      "metadata": {
        "colab": {
          "base_uri": "https://localhost:8080/"
        },
        "id": "gw_xLzyofNvY",
        "outputId": "386b2f95-4db8-4536-9a21-d05ea95f525b"
      },
      "execution_count": 15,
      "outputs": [
        {
          "output_type": "stream",
          "name": "stdout",
          "text": [
            "La solubilidad de la sal en agua es del 26.02%.\n"
          ]
        }
      ]
    },
    {
      "cell_type": "code",
      "source": [],
      "metadata": {
        "id": "kKNInCbwfiHW"
      },
      "execution_count": null,
      "outputs": []
    }
  ]
}