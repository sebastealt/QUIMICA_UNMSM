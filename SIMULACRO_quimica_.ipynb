{
  "nbformat": 4,
  "nbformat_minor": 0,
  "metadata": {
    "colab": {
      "provenance": [],
      "authorship_tag": "ABX9TyOqsx1aoJhRLBEPtKrFvhB+",
      "include_colab_link": true
    },
    "kernelspec": {
      "name": "python3",
      "display_name": "Python 3"
    },
    "language_info": {
      "name": "python"
    }
  },
  "cells": [
    {
      "cell_type": "markdown",
      "metadata": {
        "id": "view-in-github",
        "colab_type": "text"
      },
      "source": [
        "<a href=\"https://colab.research.google.com/github/sebastealt/QUIMICA_UNMSM/blob/main/quimica_.ipynb\" target=\"_parent\"><img src=\"https://colab.research.google.com/assets/colab-badge.svg\" alt=\"Open In Colab\"/></a>"
      ]
    },
    {
      "cell_type": "markdown",
      "source": [
        "Indicar cuántas estructuras isoméricas existen para la fórmula molecular C3H6O. Deduce en un colab el número de enlaces en la representación de Lewis antes de proponer las estructuras."
      ],
      "metadata": {
        "id": "SOO5U8M3EAPW"
      }
    },
    {
      "cell_type": "code",
      "execution_count": 27,
      "metadata": {
        "colab": {
          "base_uri": "https://localhost:8080/"
        },
        "id": "0abWL4P-D0WW",
        "outputId": "39b1ec2e-9683-40e8-87c8-e3255b7854b6"
      },
      "outputs": [
        {
          "output_type": "stream",
          "name": "stdout",
          "text": [
            "Ingrese el coeficiente: 1\n",
            "Ingrese el elemento: C\n",
            "Ingrese el coeficiente: 3\n",
            "Ingrese el elemento: H\n",
            "Ingrese el coeficiente: 6\n",
            "Ingrese el elemento: O\n",
            "El número de valencia del octeto es 62\n",
            "El número de valencia del compuesto es 43\n",
            "El número de enlaces es 9.5\n"
          ]
        }
      ],
      "source": [
        "elementos_coeficientes = []\n",
        "\n",
        "for _ in range(3):\n",
        "    coeficiente = int(input('Ingrese el coeficiente: '))\n",
        "    elemento = input('Ingrese el elemento: ')\n",
        "    elementos_coeficientes.append((elemento, coeficiente))\n",
        "\n",
        "numero_valencia_octeto = 0\n",
        "\n",
        "for elemento, coeficiente in elementos_coeficientes:\n",
        "    if elemento == 'H':\n",
        "        electrones_octeto = 2\n",
        "    else:\n",
        "        electrones_octeto = 8\n",
        "    numero_valencia_octeto += electrones_octeto * coeficiente\n",
        "\n",
        "print(f'El número de valencia del octeto es {numero_valencia_octeto}')\n",
        "\n",
        "numero_valencia_compuesto = 0\n",
        "\n",
        "for elemento, coeficiente in elementos_coeficientes:\n",
        "    if elemento == 'H':\n",
        "        electrones_valencia = 1\n",
        "    elif elemento == 'C':\n",
        "        electrones_valencia = 4\n",
        "    elif elemento == 'O':\n",
        "        electrones_valencia = 6\n",
        "    numero_valencia_compuesto += electrones_valencia * coeficiente\n",
        "\n",
        "numero_enlaces = (numero_valencia_octeto - numero_valencia_compuesto) / 2\n",
        "\n",
        "print(f'El número de valencia del compuesto es {numero_valencia_compuesto}')\n",
        "print(f'El número de enlaces es {numero_enlaces}')"
      ]
    },
    {
      "cell_type": "markdown",
      "source": [
        "Al2O3 + HCl = AlCl3 + H2O\n",
        "Emplea esto para desarrollar un programa donde se ingrese la masa en gramos de Al2O3 y se genere un output con la masa de HCl, AlCl3 y H2O."
      ],
      "metadata": {
        "id": "e-cSJqmNPG-F"
      }
    },
    {
      "cell_type": "code",
      "source": [
        "!pip install chempy   #usar la libreria chempy"
      ],
      "metadata": {
        "id": "Ik95YYnRQOOt"
      },
      "execution_count": null,
      "outputs": []
    },
    {
      "cell_type": "code",
      "source": [
        "#Obtener los coeficientes estequiometricos\n",
        "from chempy import balance_stoichiometry\n",
        "reac, prod = balance_stoichiometry({'Al2O3', 'HCl'}, {'AlCl3', 'H2O'})\n",
        "print(reac)\n",
        "print(prod)\n"
      ],
      "metadata": {
        "colab": {
          "base_uri": "https://localhost:8080/"
        },
        "id": "LiG_9Ie_PmMk",
        "outputId": "70372795-4c19-4c12-a4cf-1cb485d6a2a8"
      },
      "execution_count": 36,
      "outputs": [
        {
          "output_type": "stream",
          "name": "stdout",
          "text": [
            "OrderedDict([('Al2O3', 1), ('HCl', 6)])\n",
            "OrderedDict([('AlCl3', 2), ('H2O', 3)])\n"
          ]
        }
      ]
    },
    {
      "cell_type": "code",
      "source": [],
      "metadata": {
        "id": "-8uZC8AJQMhM"
      },
      "execution_count": null,
      "outputs": []
    }
  ]
}
