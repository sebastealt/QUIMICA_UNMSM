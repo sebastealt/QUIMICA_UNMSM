{
  "nbformat": 4,
  "nbformat_minor": 0,
  "metadata": {
    "colab": {
      "provenance": [],
      "include_colab_link": true
    },
    "kernelspec": {
      "name": "python3",
      "display_name": "Python 3"
    },
    "language_info": {
      "name": "python"
    },
    "widgets": {
      "application/vnd.jupyter.widget-state+json": {
        "f534de799b644da78a26101835ae8196": {
          "model_module": "faerun-notebook",
          "model_name": "SmilesDrawerModel",
          "model_module_version": "^0.1.5",
          "state": {
            "_dom_classes": [],
            "_model_module": "faerun-notebook",
            "_model_module_version": "^0.1.5",
            "_model_name": "SmilesDrawerModel",
            "_view_count": null,
            "_view_module": "faerun-notebook",
            "_view_module_version": "^0.1.5",
            "_view_name": "SmilesDrawerView",
            "background": "#1e1e1e",
            "border": true,
            "layout": "IPY_MODEL_84fdd4dbf5294e09b28a6da52c6edb8b",
            "options": {
              "scale": 1.25
            },
            "output": "svg",
            "theme": "dark",
            "value": [
              [
                "Rxn",
                "CC=CC.O=O>>C(=O)=O.O"
              ]
            ]
          }
        },
        "84fdd4dbf5294e09b28a6da52c6edb8b": {
          "model_module": "@jupyter-widgets/base",
          "model_name": "LayoutModel",
          "model_module_version": "1.2.0",
          "state": {
            "_model_module": "@jupyter-widgets/base",
            "_model_module_version": "1.2.0",
            "_model_name": "LayoutModel",
            "_view_count": null,
            "_view_module": "@jupyter-widgets/base",
            "_view_module_version": "1.2.0",
            "_view_name": "LayoutView",
            "align_content": null,
            "align_items": null,
            "align_self": null,
            "border": null,
            "bottom": null,
            "display": null,
            "flex": null,
            "flex_flow": null,
            "grid_area": null,
            "grid_auto_columns": null,
            "grid_auto_flow": null,
            "grid_auto_rows": null,
            "grid_column": null,
            "grid_gap": null,
            "grid_row": null,
            "grid_template_areas": null,
            "grid_template_columns": null,
            "grid_template_rows": null,
            "height": null,
            "justify_content": null,
            "justify_items": null,
            "left": null,
            "margin": null,
            "max_height": null,
            "max_width": null,
            "min_height": null,
            "min_width": null,
            "object_fit": null,
            "object_position": null,
            "order": null,
            "overflow": null,
            "overflow_x": null,
            "overflow_y": null,
            "padding": null,
            "right": null,
            "top": null,
            "visibility": null,
            "width": null
          }
        }
      }
    }
  },
  "cells": [
    {
      "cell_type": "markdown",
      "metadata": {
        "id": "view-in-github",
        "colab_type": "text"
      },
      "source": [
        "<a href=\"https://colab.research.google.com/github/sebastealt/QUIMICA_UNMSM/blob/main/PC_2_Quimica_UNMSM.ipynb\" target=\"_parent\"><img src=\"https://colab.research.google.com/assets/colab-badge.svg\" alt=\"Open In Colab\"/></a>"
      ]
    },
    {
      "cell_type": "markdown",
      "source": [
        "$$\\Large \\textit{UNMSM | Química}$$\n",
        "$$\\large \\textbf{PC Nº2 | Materia y clasificación}$$\n",
        "\n",
        "_Profesor: Jesus Alvarado Huayhuaz_"
      ],
      "metadata": {
        "id": "sDJAjbaQOj4x"
      }
    },
    {
      "cell_type": "markdown",
      "source": [
        "Todas las indicaciones para la presentación de la práctica son explicadas en clase y brindadas en el material de enunciado de preguntas en formato PDF."
      ],
      "metadata": {
        "id": "_DsTzWLoP7Fy"
      }
    },
    {
      "cell_type": "markdown",
      "source": [
        "## Pregunta 1: DataFrames y listas en python (4 puntos)"
      ],
      "metadata": {
        "id": "obD7c2igOD6t"
      }
    },
    {
      "cell_type": "markdown",
      "source": [
        "Usando PeriodicTable, crea una tabla con 20 elementos químicos y en las columnas considera: nombre, simbolo, masa_atomica, numero_atomico\ty valencias. Puedes ayudarte del siguiente [material](https://github.com/inefable12/UNMSM_quimica_2023/blob/main/Python_para_quimica_2023.ipynb)."
      ],
      "metadata": {
        "id": "gV4WKDa72eez"
      }
    },
    {
      "cell_type": "code",
      "source": [
        "!pip install rdkit"
      ],
      "metadata": {
        "id": "ojdL9PUwuud_",
        "colab": {
          "base_uri": "https://localhost:8080/"
        },
        "outputId": "e7f9a276-25cd-4658-9f11-3069f1a70303"
      },
      "execution_count": null,
      "outputs": [
        {
          "output_type": "stream",
          "name": "stdout",
          "text": [
            "Collecting rdkit\n",
            "  Downloading rdkit-2023.3.3-cp310-cp310-manylinux_2_17_x86_64.manylinux2014_x86_64.whl (29.7 MB)\n",
            "\u001b[2K     \u001b[90m━━━━━━━━━━━━━━━━━━━━━━━━━━━━━━━━━━━━━━━━\u001b[0m \u001b[32m29.7/29.7 MB\u001b[0m \u001b[31m50.0 MB/s\u001b[0m eta \u001b[36m0:00:00\u001b[0m\n",
            "\u001b[?25hRequirement already satisfied: numpy in /usr/local/lib/python3.10/dist-packages (from rdkit) (1.23.5)\n",
            "Requirement already satisfied: Pillow in /usr/local/lib/python3.10/dist-packages (from rdkit) (9.4.0)\n",
            "Installing collected packages: rdkit\n",
            "Successfully installed rdkit-2023.3.3\n"
          ]
        }
      ]
    },
    {
      "cell_type": "code",
      "source": [
        "from rdkit import Chem\n",
        "\n",
        "PeriodicTable = Chem.GetPeriodicTable()"
      ],
      "metadata": {
        "id": "rZGGaPZlx58X"
      },
      "execution_count": null,
      "outputs": []
    },
    {
      "cell_type": "code",
      "source": [
        "elementos_quimicos = []\n",
        "for i in range(1,21):\n",
        "  elementos_quimicos.append(PeriodicTable.GetElementSymbol(i))\n",
        "\n",
        "elementos_quimicos"
      ],
      "metadata": {
        "colab": {
          "base_uri": "https://localhost:8080/"
        },
        "id": "4cjLEXvVAza8",
        "outputId": "ba0f183d-b0d2-4090-9a6e-9af8b0d94f5b"
      },
      "execution_count": null,
      "outputs": [
        {
          "output_type": "execute_result",
          "data": {
            "text/plain": [
              "['H',\n",
              " 'He',\n",
              " 'Li',\n",
              " 'Be',\n",
              " 'B',\n",
              " 'C',\n",
              " 'N',\n",
              " 'O',\n",
              " 'F',\n",
              " 'Ne',\n",
              " 'Na',\n",
              " 'Mg',\n",
              " 'Al',\n",
              " 'Si',\n",
              " 'P',\n",
              " 'S',\n",
              " 'Cl',\n",
              " 'Ar',\n",
              " 'K',\n",
              " 'Ca']"
            ]
          },
          "metadata": {},
          "execution_count": 7
        }
      ]
    },
    {
      "cell_type": "code",
      "source": [
        "numero_atomico = [PeriodicTable.GetAtomicNumber(x) for x in elementos_quimicos]\n",
        "masa_atomica = [PeriodicTable.GetAtomicWeight(x) for x in elementos_quimicos]\n",
        "nombre_del_elemento = [PeriodicTable.GetElementName(x) for x in range(1,21)]\n",
        "simbolo_del_elemento = [PeriodicTable.GetElementSymbol(x) for x in range(1,21)]\n",
        "valencias = [PeriodicTable.GetValenceList(x) for x in range(1,21)]"
      ],
      "metadata": {
        "id": "eCeNkNRECxjz"
      },
      "execution_count": null,
      "outputs": []
    },
    {
      "cell_type": "code",
      "source": [
        "import pandas as pd\n",
        "\n",
        "data = {'nombre': nombre_del_elemento, 'simbolo': simbolo_del_elemento,\n",
        "        'masa_atomica': masa_atomica, 'numero_atomico': numero_atomico,\n",
        "        'valencias': valencias}\n",
        "df = pd.DataFrame(data)\n",
        "df"
      ],
      "metadata": {
        "colab": {
          "base_uri": "https://localhost:8080/",
          "height": 677
        },
        "id": "TKATyHfBCdNj",
        "outputId": "a33d07ba-fb4e-4c13-dbc7-754734e2de24"
      },
      "execution_count": null,
      "outputs": [
        {
          "output_type": "execute_result",
          "data": {
            "text/plain": [
              "        nombre simbolo  masa_atomica  numero_atomico  valencias\n",
              "0     Hydrogen       H         1.008               1        [1]\n",
              "1       Helium      He         4.003               2        [0]\n",
              "2      Lithium      Li         6.941               3    [1, -1]\n",
              "3    Beryllium      Be         9.012               4        [2]\n",
              "4        Boron       B        10.812               5        [3]\n",
              "5       Carbon       C        12.011               6        [4]\n",
              "6     Nitrogen       N        14.007               7        [3]\n",
              "7       Oxygen       O        15.999               8        [2]\n",
              "8     Fluorine       F        18.998               9        [1]\n",
              "9         Neon      Ne        20.180              10        [0]\n",
              "10      Sodium      Na        22.990              11    [1, -1]\n",
              "11   Magnesium      Mg        24.305              12    [2, -1]\n",
              "12   Aluminium      Al        26.982              13     [3, 6]\n",
              "13     Silicon      Si        28.086              14     [4, 6]\n",
              "14  Phosphorus       P        30.974              15  [3, 5, 7]\n",
              "15      Sulfur       S        32.067              16  [2, 4, 6]\n",
              "16    Chlorine      Cl        35.453              17        [1]\n",
              "17       Argon      Ar        39.948              18        [0]\n",
              "18   Potassium       K        39.098              19    [1, -1]\n",
              "19     Calcium      Ca        40.078              20    [2, -1]"
            ],
            "text/html": [
              "\n",
              "  <div id=\"df-589dae63-2015-4f88-aa33-d0f9e5c8bc23\" class=\"colab-df-container\">\n",
              "    <div>\n",
              "<style scoped>\n",
              "    .dataframe tbody tr th:only-of-type {\n",
              "        vertical-align: middle;\n",
              "    }\n",
              "\n",
              "    .dataframe tbody tr th {\n",
              "        vertical-align: top;\n",
              "    }\n",
              "\n",
              "    .dataframe thead th {\n",
              "        text-align: right;\n",
              "    }\n",
              "</style>\n",
              "<table border=\"1\" class=\"dataframe\">\n",
              "  <thead>\n",
              "    <tr style=\"text-align: right;\">\n",
              "      <th></th>\n",
              "      <th>nombre</th>\n",
              "      <th>simbolo</th>\n",
              "      <th>masa_atomica</th>\n",
              "      <th>numero_atomico</th>\n",
              "      <th>valencias</th>\n",
              "    </tr>\n",
              "  </thead>\n",
              "  <tbody>\n",
              "    <tr>\n",
              "      <th>0</th>\n",
              "      <td>Hydrogen</td>\n",
              "      <td>H</td>\n",
              "      <td>1.008</td>\n",
              "      <td>1</td>\n",
              "      <td>[1]</td>\n",
              "    </tr>\n",
              "    <tr>\n",
              "      <th>1</th>\n",
              "      <td>Helium</td>\n",
              "      <td>He</td>\n",
              "      <td>4.003</td>\n",
              "      <td>2</td>\n",
              "      <td>[0]</td>\n",
              "    </tr>\n",
              "    <tr>\n",
              "      <th>2</th>\n",
              "      <td>Lithium</td>\n",
              "      <td>Li</td>\n",
              "      <td>6.941</td>\n",
              "      <td>3</td>\n",
              "      <td>[1, -1]</td>\n",
              "    </tr>\n",
              "    <tr>\n",
              "      <th>3</th>\n",
              "      <td>Beryllium</td>\n",
              "      <td>Be</td>\n",
              "      <td>9.012</td>\n",
              "      <td>4</td>\n",
              "      <td>[2]</td>\n",
              "    </tr>\n",
              "    <tr>\n",
              "      <th>4</th>\n",
              "      <td>Boron</td>\n",
              "      <td>B</td>\n",
              "      <td>10.812</td>\n",
              "      <td>5</td>\n",
              "      <td>[3]</td>\n",
              "    </tr>\n",
              "    <tr>\n",
              "      <th>5</th>\n",
              "      <td>Carbon</td>\n",
              "      <td>C</td>\n",
              "      <td>12.011</td>\n",
              "      <td>6</td>\n",
              "      <td>[4]</td>\n",
              "    </tr>\n",
              "    <tr>\n",
              "      <th>6</th>\n",
              "      <td>Nitrogen</td>\n",
              "      <td>N</td>\n",
              "      <td>14.007</td>\n",
              "      <td>7</td>\n",
              "      <td>[3]</td>\n",
              "    </tr>\n",
              "    <tr>\n",
              "      <th>7</th>\n",
              "      <td>Oxygen</td>\n",
              "      <td>O</td>\n",
              "      <td>15.999</td>\n",
              "      <td>8</td>\n",
              "      <td>[2]</td>\n",
              "    </tr>\n",
              "    <tr>\n",
              "      <th>8</th>\n",
              "      <td>Fluorine</td>\n",
              "      <td>F</td>\n",
              "      <td>18.998</td>\n",
              "      <td>9</td>\n",
              "      <td>[1]</td>\n",
              "    </tr>\n",
              "    <tr>\n",
              "      <th>9</th>\n",
              "      <td>Neon</td>\n",
              "      <td>Ne</td>\n",
              "      <td>20.180</td>\n",
              "      <td>10</td>\n",
              "      <td>[0]</td>\n",
              "    </tr>\n",
              "    <tr>\n",
              "      <th>10</th>\n",
              "      <td>Sodium</td>\n",
              "      <td>Na</td>\n",
              "      <td>22.990</td>\n",
              "      <td>11</td>\n",
              "      <td>[1, -1]</td>\n",
              "    </tr>\n",
              "    <tr>\n",
              "      <th>11</th>\n",
              "      <td>Magnesium</td>\n",
              "      <td>Mg</td>\n",
              "      <td>24.305</td>\n",
              "      <td>12</td>\n",
              "      <td>[2, -1]</td>\n",
              "    </tr>\n",
              "    <tr>\n",
              "      <th>12</th>\n",
              "      <td>Aluminium</td>\n",
              "      <td>Al</td>\n",
              "      <td>26.982</td>\n",
              "      <td>13</td>\n",
              "      <td>[3, 6]</td>\n",
              "    </tr>\n",
              "    <tr>\n",
              "      <th>13</th>\n",
              "      <td>Silicon</td>\n",
              "      <td>Si</td>\n",
              "      <td>28.086</td>\n",
              "      <td>14</td>\n",
              "      <td>[4, 6]</td>\n",
              "    </tr>\n",
              "    <tr>\n",
              "      <th>14</th>\n",
              "      <td>Phosphorus</td>\n",
              "      <td>P</td>\n",
              "      <td>30.974</td>\n",
              "      <td>15</td>\n",
              "      <td>[3, 5, 7]</td>\n",
              "    </tr>\n",
              "    <tr>\n",
              "      <th>15</th>\n",
              "      <td>Sulfur</td>\n",
              "      <td>S</td>\n",
              "      <td>32.067</td>\n",
              "      <td>16</td>\n",
              "      <td>[2, 4, 6]</td>\n",
              "    </tr>\n",
              "    <tr>\n",
              "      <th>16</th>\n",
              "      <td>Chlorine</td>\n",
              "      <td>Cl</td>\n",
              "      <td>35.453</td>\n",
              "      <td>17</td>\n",
              "      <td>[1]</td>\n",
              "    </tr>\n",
              "    <tr>\n",
              "      <th>17</th>\n",
              "      <td>Argon</td>\n",
              "      <td>Ar</td>\n",
              "      <td>39.948</td>\n",
              "      <td>18</td>\n",
              "      <td>[0]</td>\n",
              "    </tr>\n",
              "    <tr>\n",
              "      <th>18</th>\n",
              "      <td>Potassium</td>\n",
              "      <td>K</td>\n",
              "      <td>39.098</td>\n",
              "      <td>19</td>\n",
              "      <td>[1, -1]</td>\n",
              "    </tr>\n",
              "    <tr>\n",
              "      <th>19</th>\n",
              "      <td>Calcium</td>\n",
              "      <td>Ca</td>\n",
              "      <td>40.078</td>\n",
              "      <td>20</td>\n",
              "      <td>[2, -1]</td>\n",
              "    </tr>\n",
              "  </tbody>\n",
              "</table>\n",
              "</div>\n",
              "    <div class=\"colab-df-buttons\">\n",
              "\n",
              "  <div class=\"colab-df-container\">\n",
              "    <button class=\"colab-df-convert\" onclick=\"convertToInteractive('df-589dae63-2015-4f88-aa33-d0f9e5c8bc23')\"\n",
              "            title=\"Convert this dataframe to an interactive table.\"\n",
              "            style=\"display:none;\">\n",
              "\n",
              "  <svg xmlns=\"http://www.w3.org/2000/svg\" height=\"24px\" viewBox=\"0 -960 960 960\">\n",
              "    <path d=\"M120-120v-720h720v720H120Zm60-500h600v-160H180v160Zm220 220h160v-160H400v160Zm0 220h160v-160H400v160ZM180-400h160v-160H180v160Zm440 0h160v-160H620v160ZM180-180h160v-160H180v160Zm440 0h160v-160H620v160Z\"/>\n",
              "  </svg>\n",
              "    </button>\n",
              "\n",
              "  <style>\n",
              "    .colab-df-container {\n",
              "      display:flex;\n",
              "      gap: 12px;\n",
              "    }\n",
              "\n",
              "    .colab-df-convert {\n",
              "      background-color: #E8F0FE;\n",
              "      border: none;\n",
              "      border-radius: 50%;\n",
              "      cursor: pointer;\n",
              "      display: none;\n",
              "      fill: #1967D2;\n",
              "      height: 32px;\n",
              "      padding: 0 0 0 0;\n",
              "      width: 32px;\n",
              "    }\n",
              "\n",
              "    .colab-df-convert:hover {\n",
              "      background-color: #E2EBFA;\n",
              "      box-shadow: 0px 1px 2px rgba(60, 64, 67, 0.3), 0px 1px 3px 1px rgba(60, 64, 67, 0.15);\n",
              "      fill: #174EA6;\n",
              "    }\n",
              "\n",
              "    .colab-df-buttons div {\n",
              "      margin-bottom: 4px;\n",
              "    }\n",
              "\n",
              "    [theme=dark] .colab-df-convert {\n",
              "      background-color: #3B4455;\n",
              "      fill: #D2E3FC;\n",
              "    }\n",
              "\n",
              "    [theme=dark] .colab-df-convert:hover {\n",
              "      background-color: #434B5C;\n",
              "      box-shadow: 0px 1px 3px 1px rgba(0, 0, 0, 0.15);\n",
              "      filter: drop-shadow(0px 1px 2px rgba(0, 0, 0, 0.3));\n",
              "      fill: #FFFFFF;\n",
              "    }\n",
              "  </style>\n",
              "\n",
              "    <script>\n",
              "      const buttonEl =\n",
              "        document.querySelector('#df-589dae63-2015-4f88-aa33-d0f9e5c8bc23 button.colab-df-convert');\n",
              "      buttonEl.style.display =\n",
              "        google.colab.kernel.accessAllowed ? 'block' : 'none';\n",
              "\n",
              "      async function convertToInteractive(key) {\n",
              "        const element = document.querySelector('#df-589dae63-2015-4f88-aa33-d0f9e5c8bc23');\n",
              "        const dataTable =\n",
              "          await google.colab.kernel.invokeFunction('convertToInteractive',\n",
              "                                                    [key], {});\n",
              "        if (!dataTable) return;\n",
              "\n",
              "        const docLinkHtml = 'Like what you see? Visit the ' +\n",
              "          '<a target=\"_blank\" href=https://colab.research.google.com/notebooks/data_table.ipynb>data table notebook</a>'\n",
              "          + ' to learn more about interactive tables.';\n",
              "        element.innerHTML = '';\n",
              "        dataTable['output_type'] = 'display_data';\n",
              "        await google.colab.output.renderOutput(dataTable, element);\n",
              "        const docLink = document.createElement('div');\n",
              "        docLink.innerHTML = docLinkHtml;\n",
              "        element.appendChild(docLink);\n",
              "      }\n",
              "    </script>\n",
              "  </div>\n",
              "\n",
              "\n",
              "<div id=\"df-ceb5db2b-c03b-401c-96d9-922f944e665e\">\n",
              "  <button class=\"colab-df-quickchart\" onclick=\"quickchart('df-ceb5db2b-c03b-401c-96d9-922f944e665e')\"\n",
              "            title=\"Suggest charts.\"\n",
              "            style=\"display:none;\">\n",
              "\n",
              "<svg xmlns=\"http://www.w3.org/2000/svg\" height=\"24px\"viewBox=\"0 0 24 24\"\n",
              "     width=\"24px\">\n",
              "    <g>\n",
              "        <path d=\"M19 3H5c-1.1 0-2 .9-2 2v14c0 1.1.9 2 2 2h14c1.1 0 2-.9 2-2V5c0-1.1-.9-2-2-2zM9 17H7v-7h2v7zm4 0h-2V7h2v10zm4 0h-2v-4h2v4z\"/>\n",
              "    </g>\n",
              "</svg>\n",
              "  </button>\n",
              "\n",
              "<style>\n",
              "  .colab-df-quickchart {\n",
              "      --bg-color: #E8F0FE;\n",
              "      --fill-color: #1967D2;\n",
              "      --hover-bg-color: #E2EBFA;\n",
              "      --hover-fill-color: #174EA6;\n",
              "      --disabled-fill-color: #AAA;\n",
              "      --disabled-bg-color: #DDD;\n",
              "  }\n",
              "\n",
              "  [theme=dark] .colab-df-quickchart {\n",
              "      --bg-color: #3B4455;\n",
              "      --fill-color: #D2E3FC;\n",
              "      --hover-bg-color: #434B5C;\n",
              "      --hover-fill-color: #FFFFFF;\n",
              "      --disabled-bg-color: #3B4455;\n",
              "      --disabled-fill-color: #666;\n",
              "  }\n",
              "\n",
              "  .colab-df-quickchart {\n",
              "    background-color: var(--bg-color);\n",
              "    border: none;\n",
              "    border-radius: 50%;\n",
              "    cursor: pointer;\n",
              "    display: none;\n",
              "    fill: var(--fill-color);\n",
              "    height: 32px;\n",
              "    padding: 0;\n",
              "    width: 32px;\n",
              "  }\n",
              "\n",
              "  .colab-df-quickchart:hover {\n",
              "    background-color: var(--hover-bg-color);\n",
              "    box-shadow: 0 1px 2px rgba(60, 64, 67, 0.3), 0 1px 3px 1px rgba(60, 64, 67, 0.15);\n",
              "    fill: var(--button-hover-fill-color);\n",
              "  }\n",
              "\n",
              "  .colab-df-quickchart-complete:disabled,\n",
              "  .colab-df-quickchart-complete:disabled:hover {\n",
              "    background-color: var(--disabled-bg-color);\n",
              "    fill: var(--disabled-fill-color);\n",
              "    box-shadow: none;\n",
              "  }\n",
              "\n",
              "  .colab-df-spinner {\n",
              "    border: 2px solid var(--fill-color);\n",
              "    border-color: transparent;\n",
              "    border-bottom-color: var(--fill-color);\n",
              "    animation:\n",
              "      spin 1s steps(1) infinite;\n",
              "  }\n",
              "\n",
              "  @keyframes spin {\n",
              "    0% {\n",
              "      border-color: transparent;\n",
              "      border-bottom-color: var(--fill-color);\n",
              "      border-left-color: var(--fill-color);\n",
              "    }\n",
              "    20% {\n",
              "      border-color: transparent;\n",
              "      border-left-color: var(--fill-color);\n",
              "      border-top-color: var(--fill-color);\n",
              "    }\n",
              "    30% {\n",
              "      border-color: transparent;\n",
              "      border-left-color: var(--fill-color);\n",
              "      border-top-color: var(--fill-color);\n",
              "      border-right-color: var(--fill-color);\n",
              "    }\n",
              "    40% {\n",
              "      border-color: transparent;\n",
              "      border-right-color: var(--fill-color);\n",
              "      border-top-color: var(--fill-color);\n",
              "    }\n",
              "    60% {\n",
              "      border-color: transparent;\n",
              "      border-right-color: var(--fill-color);\n",
              "    }\n",
              "    80% {\n",
              "      border-color: transparent;\n",
              "      border-right-color: var(--fill-color);\n",
              "      border-bottom-color: var(--fill-color);\n",
              "    }\n",
              "    90% {\n",
              "      border-color: transparent;\n",
              "      border-bottom-color: var(--fill-color);\n",
              "    }\n",
              "  }\n",
              "</style>\n",
              "\n",
              "  <script>\n",
              "    async function quickchart(key) {\n",
              "      const quickchartButtonEl =\n",
              "        document.querySelector('#' + key + ' button');\n",
              "      quickchartButtonEl.disabled = true;  // To prevent multiple clicks.\n",
              "      quickchartButtonEl.classList.add('colab-df-spinner');\n",
              "      try {\n",
              "        const charts = await google.colab.kernel.invokeFunction(\n",
              "            'suggestCharts', [key], {});\n",
              "      } catch (error) {\n",
              "        console.error('Error during call to suggestCharts:', error);\n",
              "      }\n",
              "      quickchartButtonEl.classList.remove('colab-df-spinner');\n",
              "      quickchartButtonEl.classList.add('colab-df-quickchart-complete');\n",
              "    }\n",
              "    (() => {\n",
              "      let quickchartButtonEl =\n",
              "        document.querySelector('#df-ceb5db2b-c03b-401c-96d9-922f944e665e button');\n",
              "      quickchartButtonEl.style.display =\n",
              "        google.colab.kernel.accessAllowed ? 'block' : 'none';\n",
              "    })();\n",
              "  </script>\n",
              "</div>\n",
              "    </div>\n",
              "  </div>\n"
            ]
          },
          "metadata": {},
          "execution_count": 13
        }
      ]
    },
    {
      "cell_type": "markdown",
      "source": [
        "## Pregunta 2: Configuración electrónica (4 puntos)"
      ],
      "metadata": {
        "id": "epzOadagLfPi"
      }
    },
    {
      "cell_type": "markdown",
      "source": [
        "Escribe un programa que lea el número atómico y me indique el número de electrones de valencia."
      ],
      "metadata": {
        "id": "MbAEOGPsjOWZ"
      }
    },
    {
      "cell_type": "code",
      "source": [
        "numero_atomico = int(input(\"Ingresa el número de protones: \"))\n",
        "\n",
        "if numero_atomico <= 2:\n",
        "    electrones_valencia = numero_atomico\n",
        "    print(f'El número de electrones de valencia es {electrones_valencia}')\n",
        "elif numero_atomico <= 10:\n",
        "    electrones_valencia = numero_atomico - 2\n",
        "    print(f'El número de electrones de valencia es {electrones_valencia}')\n",
        "elif numero_atomico <= 18:\n",
        "    electrones_valencia = numero_atomico - 10\n",
        "    print(f'El número de electrones de valencia es {electrones_valencia}')\n",
        "elif numero_atomico <= 20:\n",
        "    electrones_valencia = numero_atomico - 18\n",
        "    print(f'El número de electrones de valencia es {electrones_valencia}')\n",
        "elif numero_atomico <= 30:\n",
        "    electrones_valencia = 2\n",
        "    print(f'El número de electrones de valencia es {electrones_valencia}')\n",
        "elif numero_atomico <= 36:\n",
        "    electrones_valencia = numero_atomico - 28\n",
        "    print(f'El número de electrones de valencia es {electrones_valencia}')\n",
        "elif numero_atomico <= 38:\n",
        "    electrones_valencia <= numero_atomico -36\n",
        "    print(f'El número de electrones de valencia es {electrones_valencia}')\n",
        "elif numero_atomico <= 48:\n",
        "    electrones_valencia = 2\n",
        "    print(f'El número de electrones de valencia es {electrones_valencia}')\n",
        "elif numero_atomico <=54:\n",
        "    electrones_valencia = numero_atomico - 46\n",
        "    print(f'El número de electrones de valencia es {electrones_valencia}')\n",
        "else:\n",
        "  print('Solo acepto hasta 54')"
      ],
      "metadata": {
        "id": "84kST_lUIxxL"
      },
      "execution_count": null,
      "outputs": []
    },
    {
      "cell_type": "markdown",
      "source": [
        "# Pregunta 3: Molecularidad & compuestos covalentes (4 puntos)"
      ],
      "metadata": {
        "id": "8gxSHpD3LZsh"
      }
    },
    {
      "cell_type": "code",
      "source": [
        "#Código necesario para generar la imagen, no editar\n",
        "!pip install faerun-notebook==0.1.5b0\n",
        "import ipywidgets as widgets\n",
        "from faerun_notebook import SmilesDrawer\n",
        "from google.colab import output\n",
        "output.enable_custom_widget_manager()"
      ],
      "metadata": {
        "id": "JgF8Ohtbky65"
      },
      "execution_count": null,
      "outputs": []
    },
    {
      "cell_type": "markdown",
      "source": [
        "Balancea la siguiente reacción química y asigna todos los subíndices o moleculariedad."
      ],
      "metadata": {
        "id": "5sLC10D_oSrV"
      }
    },
    {
      "cell_type": "code",
      "source": [
        "SmilesDrawer(value=[(\"Rxn\", \"CC=CC.O=O>>C(=O)=O.O\")], theme='dark', background=\"#1e1e1e\", options={'scale': 1.25})"
      ],
      "metadata": {
        "colab": {
          "base_uri": "https://localhost:8080/",
          "height": 140,
          "referenced_widgets": [
            "f534de799b644da78a26101835ae8196",
            "84fdd4dbf5294e09b28a6da52c6edb8b"
          ]
        },
        "id": "CC0mAXWmnYyN",
        "outputId": "b6624783-f658-4c9b-f740-2c61a0083191"
      },
      "execution_count": null,
      "outputs": [
        {
          "output_type": "display_data",
          "data": {
            "text/plain": [
              "SmilesDrawer(background='#1e1e1e', options={'scale': 1.25}, theme='dark', value=[('Rxn', 'CC=CC.O=O>>C(=O)=O.O…"
            ],
            "application/vnd.jupyter.widget-view+json": {
              "version_major": 2,
              "version_minor": 0,
              "model_id": "f534de799b644da78a26101835ae8196"
            }
          },
          "metadata": {
            "application/vnd.jupyter.widget-view+json": {
              "colab": {
                "custom_widget_manager": {
                  "url": "https://ssl.gstatic.com/colaboratory-static/widgets/colab-cdn-widget-manager/b3e629b1971e1542/manager.min.js"
                }
              }
            }
          }
        }
      ]
    },
    {
      "cell_type": "code",
      "source": [
        "!pip install chempy   #usar la libreria chempy"
      ],
      "metadata": {
        "id": "8-MDJMnUu8bR"
      },
      "execution_count": null,
      "outputs": []
    },
    {
      "cell_type": "code",
      "source": [
        "#Obtener los coeficientes estequiometricos\n",
        "from chempy import balance_stoichiometry\n",
        "reac, prod = balance_stoichiometry({'C4H8', 'O2'}, {'CO2', 'H2O'})\n",
        "print(reac)\n",
        "print(prod)"
      ],
      "metadata": {
        "id": "uqqfJi9cPECo",
        "colab": {
          "base_uri": "https://localhost:8080/"
        },
        "outputId": "0bd424d5-15c8-470e-d489-83c2ddc80512"
      },
      "execution_count": null,
      "outputs": [
        {
          "output_type": "stream",
          "name": "stdout",
          "text": [
            "OrderedDict([('C4H8', 1), ('O2', 6)])\n",
            "OrderedDict([('CO2', 4), ('H2O', 4)])\n"
          ]
        }
      ]
    },
    {
      "cell_type": "code",
      "source": [
        "#Representar la reaccion\n",
        "from chempy import chemistry\n",
        "reaction = chemistry.Reaction({'C4H8': 1, 'O2': 6}, {'CO2': 4, 'H2O': 4})\n",
        "print(reaction)"
      ],
      "metadata": {
        "id": "sbeZF3uATQDj",
        "colab": {
          "base_uri": "https://localhost:8080/"
        },
        "outputId": "27927c5f-26b3-40da-ade8-e56feedca7e9"
      },
      "execution_count": null,
      "outputs": [
        {
          "output_type": "stream",
          "name": "stdout",
          "text": [
            "C4H8 + 6 O2 -> 4 CO2 + 4 H2O\n"
          ]
        }
      ]
    },
    {
      "cell_type": "markdown",
      "source": [
        "## Pregunta 4: SMILES, RDKit y Open Babel (4 puntos)"
      ],
      "metadata": {
        "id": "Rh-nAUiKhJNB"
      }
    },
    {
      "cell_type": "code",
      "source": [
        "!apt-get -qq install -y openbabel"
      ],
      "metadata": {
        "id": "oDQydPU5VPWd"
      },
      "execution_count": null,
      "outputs": []
    },
    {
      "cell_type": "markdown",
      "source": [
        "Colecta la representación SMILES de 10 fármacos usando RDKit y preoptimiza sus estructuras."
      ],
      "metadata": {
        "id": "NIkI45Xdqqnt"
      }
    },
    {
      "cell_type": "code",
      "source": [
        "!obabel -i smi farmacos.smi -o sdf --gen3D > output.sdf"
      ],
      "metadata": {
        "colab": {
          "base_uri": "https://localhost:8080/"
        },
        "id": "ZkcluVkqeZj1",
        "outputId": "15692faf-2d3c-4278-8814-b1f8f17e8081"
      },
      "execution_count": null,
      "outputs": [
        {
          "output_type": "stream",
          "name": "stdout",
          "text": [
            "10 molecules converted\n"
          ]
        }
      ]
    },
    {
      "cell_type": "code",
      "source": [
        "!grep WARNING output.sdf\n"
      ],
      "metadata": {
        "id": "DesdLt17iQKa"
      },
      "execution_count": null,
      "outputs": []
    },
    {
      "cell_type": "code",
      "source": [
        "!obabel -i sdf output.sdf -o mol2 -O _.mol2 -h -m\n"
      ],
      "metadata": {
        "colab": {
          "base_uri": "https://localhost:8080/"
        },
        "id": "9xxhsBx4iULu",
        "outputId": "b01e67be-c377-4698-ea45-ea29b493d603"
      },
      "execution_count": null,
      "outputs": [
        {
          "output_type": "stream",
          "name": "stdout",
          "text": [
            "10 molecules converted\n",
            "10 files output. The first is _1.mol2\n"
          ]
        }
      ]
    },
    {
      "cell_type": "code",
      "source": [
        "!obabel *.mol2 -O opt.xyz --minimize --sd --steps 20000 --ff MMFF94 -p 7.4 --log -m"
      ],
      "metadata": {
        "id": "QAFq3ZIAiXm1"
      },
      "execution_count": null,
      "outputs": []
    },
    {
      "cell_type": "code",
      "source": [
        "!obabel -i xyz *.xyz -o pdbqt -O lig_.pdbqt -m"
      ],
      "metadata": {
        "colab": {
          "base_uri": "https://localhost:8080/"
        },
        "id": "TxppmbXfijp-",
        "outputId": "1c57f83d-a12c-4ac1-ce2e-a2933f062eff"
      },
      "execution_count": null,
      "outputs": [
        {
          "output_type": "stream",
          "name": "stdout",
          "text": [
            "10 molecules converted\n",
            "10 files output. The first is lig_opt_10.pdbqt\n"
          ]
        }
      ]
    },
    {
      "cell_type": "code",
      "source": [
        "!ls *xyz | wc -l"
      ],
      "metadata": {
        "colab": {
          "base_uri": "https://localhost:8080/"
        },
        "id": "uVx6XwASimSt",
        "outputId": "76c363a0-d748-4671-ee2e-f6c7412f1821"
      },
      "execution_count": null,
      "outputs": [
        {
          "output_type": "stream",
          "name": "stdout",
          "text": [
            "10\n"
          ]
        }
      ]
    },
    {
      "cell_type": "code",
      "source": [
        "!mkdir mis_inputs_vina"
      ],
      "metadata": {
        "id": "unRqiBWfioQP"
      },
      "execution_count": null,
      "outputs": []
    },
    {
      "cell_type": "code",
      "source": [
        "!mv *.pdbqt /content/mis_inputs_vina"
      ],
      "metadata": {
        "id": "dv83NVfsiqSs"
      },
      "execution_count": null,
      "outputs": []
    },
    {
      "cell_type": "code",
      "source": [
        "!zip mis_inputs_vina.zip /content/mis_inputs_vina/*.pdbqt"
      ],
      "metadata": {
        "colab": {
          "base_uri": "https://localhost:8080/"
        },
        "id": "FsArYtnqiuZl",
        "outputId": "52f12b82-6e2e-45ec-a913-d126611e95f2"
      },
      "execution_count": null,
      "outputs": [
        {
          "output_type": "stream",
          "name": "stdout",
          "text": [
            "updating: content/mis_inputs_vina/lig_opt_10.pdbqt (deflated 74%)\n",
            "updating: content/mis_inputs_vina/lig_opt_1.pdbqt (deflated 76%)\n",
            "updating: content/mis_inputs_vina/lig_opt_2.pdbqt (deflated 71%)\n",
            "updating: content/mis_inputs_vina/lig_opt_3.pdbqt (deflated 74%)\n",
            "updating: content/mis_inputs_vina/lig_opt_4.pdbqt (deflated 74%)\n",
            "updating: content/mis_inputs_vina/lig_opt_5.pdbqt (deflated 75%)\n",
            "updating: content/mis_inputs_vina/lig_opt_6.pdbqt (deflated 75%)\n",
            "updating: content/mis_inputs_vina/lig_opt_7.pdbqt (deflated 70%)\n",
            "updating: content/mis_inputs_vina/lig_opt_8.pdbqt (deflated 77%)\n",
            "updating: content/mis_inputs_vina/lig_opt_9.pdbqt (deflated 74%)\n"
          ]
        }
      ]
    },
    {
      "cell_type": "code",
      "source": [
        "!pip install rdkit"
      ],
      "metadata": {
        "id": "-HDSQRXckxsu"
      },
      "execution_count": null,
      "outputs": []
    },
    {
      "cell_type": "code",
      "source": [
        "from rdkit import Chem\n",
        "from rdkit.Chem import Draw"
      ],
      "metadata": {
        "id": "wKdZ4eqclp6F"
      },
      "execution_count": null,
      "outputs": []
    },
    {
      "cell_type": "code",
      "source": [
        "farmacos_list = ['CCC(C)(C)C(=O)OC1CC(C=C2C1C(C(C=C2)C)CCC3CC(CC(=O)O3)O)C', 'CC(=O)OC1=CC=CC=C1C(=O)O','CC1=CN=C(C(=C1OC)C)CS(=O)C2=NC3=C(N2)C=C(C=C3)OC',\n",
        "               'C1=C(C=C(C(=C1I)OC2=CC(=C(C(=C2)I)O)I)I)CC(C(=O)[O-])N.[Na+]','CCOC(=O)C(CCC1=CC=CC=C1)NC(C)C(=O)N2C3CCCC3CC2C(=O)O','CCOC(=O)C1=C(NC(=C(C1C2=CC=CC=C2Cl)C(=O)OC)C)COCCN',\n",
        "               'CC(=O)NC1=CC=C(C=C1)O','CC(C)C1=C(C(=C(N1CCC(CC(CC(=O)O)O)O)C2=CC=C(C=C2)F)C3=CC=CC=C3)C(=O)NC4=CC=CC=C4','CC(C)(C)NCC(C1=CC(=C(C=C1)O)CO)O','CC1=C(C=CN=C1CS(=O)C2=NC3=CC=CC=C3N2)OCC(F)(F)F']\n",
        "\n",
        "#Ahora usando \"list comprehension\"\n",
        "mol_list = [Chem.MolFromSmiles(x) for x in farmacos_list]\n",
        "\n",
        "imagen = Draw.MolsToGridImage(mol_list)\n",
        "imagen"
      ],
      "metadata": {
        "colab": {
          "base_uri": "https://localhost:8080/",
          "height": 817
        },
        "id": "LUnvu7GEk8QA",
        "outputId": "d513dc6e-df57-486e-fe43-d57ba8d61bd7"
      },
      "execution_count": null,
      "outputs": [
        {
          "output_type": "execute_result",
          "data": {
            "image/png": "[encoded data removed]",
            "text/plain": [
              "<IPython.core.display.Image object>"
            ]
          },
          "metadata": {},
          "execution_count": 31
        }
      ]
    },
    {
      "cell_type": "markdown",
      "source": [
        "## Pregunta 5: Método científico (4 puntos)"
      ],
      "metadata": {
        "id": "CuzCcXJghR14"
      }
    },
    {
      "cell_type": "markdown",
      "source": [
        "Leer el artículo disponibilizado por el profesor y explica cómo es aplicado el método científico. Emplea como máximo 300 palabras."
      ],
      "metadata": {
        "id": "WngRSR-Rhmx1"
      }
    },
    {
      "cell_type": "markdown",
      "source": [
        "Durante la observación en el aula, se ha notado una falta de interés y comprensión en los estudiantes en relación con los conceptos de configuración electrónica en la química. Los estudiantes parecen tener dificultades para visualizar y entender la disposición de los electrones en los átomos.\n",
        "El problema principal identificado es la ineficacia de los métodos de enseñanza actuales en la transmisión de conceptos de configuración electrónica de manera efectiva a los estudiantes. Esto ha llevado a una disminución en el rendimiento académico.\n",
        "La hipótesis es que  la implementación de un modelo didáctico interactivo y visual en el aula podría mejorar la comprensión de los estudiantes sobre la configuración electrónica y aumentar su interés en la química.\n",
        "Se llevará a cabo un experimento en el que se dividirá a un grupo de estudiantes en dos subgrupos. Uno de los subgrupos recibirá la enseñanza tradicional sobre configuración electrónica, mientras que el otro subgrupo participará en sesiones de aprendizaje que utilizan el modelo didáctico interactivo propuesto. Se realizarán evaluaciones previas y posteriores para medir la comprensión y el interés de los estudiantes en la química.\n",
        "Tras el análisis de los resultados de las evaluaciones, se observa una mejora significativa en la comprensión y el interés de los estudiantes que participaron en las sesiones con el modelo didáctico interactivo en comparación con el otro grupo que recibió la enseñanza tradicional.\n",
        "Se concluye que la implementación de un modelo didáctico interactivo y visual en el aula puede ser efectiva para mejorar la comprensión de los estudiantes sobre la configuración electrónica y fomentar su interés en la química. Este enfoque pedagógico puede ser beneficioso para abordar el problema de falta de comprensión y desinterés en esta área de estudio.\n"
      ],
      "metadata": {
        "id": "jW74IPkH8ndq"
      }
    }
  ]
}